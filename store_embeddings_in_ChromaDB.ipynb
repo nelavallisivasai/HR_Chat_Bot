{
 "cells": [
  {
   "attachments": {},
   "cell_type": "markdown",
   "metadata": {},
   "source": [
    "### 1. Load Text"
   ]
  },
  {
   "cell_type": "code",
   "execution_count": 1,
   "metadata": {},
   "outputs": [],
   "source": [
    "doc_path = (r\"./data/hr_policy.txt\")\n",
    "\n",
    "# Open the file\n",
    "with open(doc_path, 'r') as f:\n",
    "    # Read the file\n",
    "    contents = f.read()"
   ]
  },
  {
   "cell_type": "code",
   "execution_count": 2,
   "metadata": {},
   "outputs": [
    {
     "data": {
      "text/plain": [
       "28"
      ]
     },
     "execution_count": 2,
     "metadata": {},
     "output_type": "execute_result"
    }
   ],
   "source": [
    "# set up tokenizer\n",
    "import tiktoken\n",
    "tokenizer = tiktoken.get_encoding('p50k_base')\n",
    "\n",
    "\n",
    "# create the length function\n",
    "def tiktoken_len(text):\n",
    "    tokens = tokenizer.encode(\n",
    "        text,\n",
    "        disallowed_special=()\n",
    "    )\n",
    "    return len(tokens)\n",
    "\n",
    "# sample\n",
    "tiktoken_len(\"hello I am a chunk of text and using the tiktoken_len function \"\n",
    "             \"we can find the length of this chunk of text in tokens\")"
   ]
  },
  {
   "attachments": {},
   "cell_type": "markdown",
   "metadata": {},
   "source": [
    "### 2. Create chunking function"
   ]
  },
  {
   "cell_type": "code",
   "execution_count": 3,
   "metadata": {},
   "outputs": [
    {
     "data": {
      "text/plain": [
       "'HR POLICY MANUAL - LEAVE POLICY\\nI. PURPOSE\\nThis policy is designed to provide a clear and consistent understanding of the leave benefits provided by our company to its employees. It covers the rules and regulations regarding Vacation Leave, Sick Leave, and Service Incentive Leave.\\nII. SCOPE\\nThis policy applies to all regular full-time employees of the company, regardless of their position or department.\\nIII. LEAVE POLICY\\nA. Vacation Leave\\n1.\\tEligibility and Accrual: All regular full-time employees are eligible for Vacation Leave. Employees will earn 1.25 days of Vacation Leave per month of service, accruing to 15 days per year.\\n2.\\tApplication: Leave applications must be submitted through the Employee Self Service portal at least one day before the intended leave date. Approval from the immediate supervisor is required.\\n3.\\tUnused Leave: Unused Vacation Leave can be carried over to the next year. However, the total accumulated leave should not exceed 30 days. Any excess leave will be forfeited.\\n4.\\tEncashment: Unused Vacation Leave can be encashed at the end of the year at the basic salary rate. Encashment rate is basic salary divided by 30 days multiplied by unused leaves to be encashed.\\n5.\\tDuring Probation: Employees on probation are not eligible for Vacation Leave.\\nB. Sick Leave\\n1.\\tEligibility and Accrual: All regular full-time employees are eligible for Sick Leave. Employees will earn 1.25 days of Sick Leave per month of service, accruing to 15 days per year.'"
      ]
     },
     "execution_count": 3,
     "metadata": {},
     "output_type": "execute_result"
    }
   ],
   "source": [
    "from langchain.text_splitter import RecursiveCharacterTextSplitter\n",
    "\n",
    "text_splitter = RecursiveCharacterTextSplitter(\n",
    "    chunk_size=400,\n",
    "    chunk_overlap=20,\n",
    "    length_function=tiktoken_len,\n",
    "    separators=[\"\\n\\n\", \"\\n\", \" \", \"\"]\n",
    ")\n",
    "\n",
    "chunks = text_splitter.split_text(contents)\n",
    "chunks[0]"
   ]
  },
  {
   "attachments": {},
   "cell_type": "markdown",
   "metadata": {},
   "source": [
    "### 3. Store Data chunks in Chroma DB"
   ]
  },
  {
   "cell_type": "code",
   "execution_count": 4,
   "metadata": {},
   "outputs": [],
   "source": [
    "import chromadb\n",
    "\n",
    "client = chromadb.PersistentClient('vectorstore')\n",
    "collection = client.get_or_create_collection(name=\"policies\")"
   ]
  },
  {
   "cell_type": "code",
   "execution_count": 5,
   "metadata": {},
   "outputs": [],
   "source": [
    "import uuid\n",
    "\n",
    "if not collection.count():\n",
    "            for data in chunks:\n",
    "                collection.add(documents=data, ids=[str(uuid.uuid4())])\n"
   ]
  },
  {
   "cell_type": "markdown",
   "metadata": {},
   "source": [
    "### 4. Retrive data "
   ]
  },
  {
   "cell_type": "code",
   "execution_count": 6,
   "metadata": {},
   "outputs": [
    {
     "data": {
      "text/plain": [
       "{'ids': [['2ead9b74-e0fa-4761-8c16-bfe63effe912',\n",
       "   'da10132c-bb5f-474b-9793-41195e034221']],\n",
       " 'distances': [[0.7031219871426202, 0.7481169960333809]],\n",
       " 'metadatas': [[None, None]],\n",
       " 'embeddings': None,\n",
       " 'documents': [[\"5.\\tDuring Probation: Employees on probation are eligible for On-Call Duty.\\nH. Travel Time\\n1.\\tEligibility and Accrual: All regular full-time employees who are required to travel for work are eligible for Travel Time. The duration will be equivalent to the duration of the travel.\\n2.\\tApplication: Applications must be submitted through the Employee Self Service portal at least one week before the intended travel date. Approval from the immediate supervisor is required.\\n3.\\tUnused Leave: There is no carryover or forfeiture for Travel Time as it is event-based.\\n4.\\tEncashment: Travel Time cannot be encashed.\\n5.\\tDuring Probation: Employees on probation are eligible for Travel Time.\\nI. Emergency Duty\\n1.\\tEligibility and Accrual: All regular full-time employees who are required to work during emergencies are eligible for Emergency Duty. The duration will be equivalent to the duration of the emergency work.\\n2.\\tApplication: No application is required for Emergency Duty. It is automatically applied based on the employee's emergency work schedule.\\n3.\\tUnused Leave: There is no carryover or forfeiture for Emergency Duty as it is event-based.\\n4.\\tEncashment: Emergency Duty cannot be encashed but is reflected in the employee's pay based on the hours worked during emergency duty.\\n5.\\tDuring Probation: Employees on probation are eligible for Emergency Duty.\\nJ. Weekend Duty\\n1.\\tEligibility and Accrual: All regular full-time employees who are required to work during weekends are eligible for Weekend Duty. The duration will be equivalent to the duration of the weekend work.\\n2.\\tApplication: No application is required for Weekend Duty. It is automatically applied based on the employee's weekend work schedule.\",\n",
       "   \"IV. PUBLIC HOLIDAYS\\nPublic holidays do not count against any leave type. If a public holiday occurs during an employee's leave, the leave will be extended by one day.\\nV. LEAVE DURING PROBATION\\nAs stated above, employees on probation are eligible for Sick Leave at a reduced rate and are not eligible for Vacation Leave or Service Incentive Leave.\\nVI. LEAVE ENCASHMENT\\nAs stated above, Vacation Leave and Service Incentive Leave can be encashed at the end of the year at the basic salary rate. Sick Leave cannot be encashed.\\nVII. LEAVE APPLICATION PROCESS\\n1.\\tSubmission: All leave applications must be submitted through the Employee Self Service portal.\\n2.\\tApproval: All leave applications require the approval of the immediate supervisor. The supervisor will consider the operational requirements of the department and the employee's leave balance before approving the leave.\\n3.\\tNotice Period: For Vacation Leave and Service Incentive Leave, applications should be submitted at least one day before the intended leave date. For Sick Leave, if the leave is planned, the application should be submitted at least one day before the intended leave date. For unplanned sick leave, the application should be submitted as soon as possible.\\n4.\\tDocumentation: For sick leaves of more than two consecutive days, a medical certificate must be submitted.\\nVIII. POLICY VIOLATION\\nFailure to comply with this policy, including failure to submit leave applications in a timely manner or providing false information, may result in disciplinary action, up to and including termination of employment.\\nIX. POLICY REVIEW\\nThis policy will be reviewed annually and may be amended at the discretion of the company.\\nX. QUESTIONS\\nIf you have any questions about this policy, please contact the Human Resources Department.\"]],\n",
       " 'uris': None,\n",
       " 'data': None}"
      ]
     },
     "execution_count": 6,
     "metadata": {},
     "output_type": "execute_result"
    }
   ],
   "source": [
    "results = collection.query(\n",
    "    query_texts=[\"Are employees on probation allowed to have vacation leaves?\"],\n",
    "    n_results=2\n",
    ")\n",
    "results"
   ]
  }
 ],
 "metadata": {
  "kernelspec": {
   "display_name": "Python 3 (ipykernel)",
   "language": "python",
   "name": "python3"
  },
  "language_info": {
   "codemirror_mode": {
    "name": "ipython",
    "version": 3
   },
   "file_extension": ".py",
   "mimetype": "text/x-python",
   "name": "python",
   "nbconvert_exporter": "python",
   "pygments_lexer": "ipython3",
   "version": "3.12.7"
  }
 },
 "nbformat": 4,
 "nbformat_minor": 2
}
