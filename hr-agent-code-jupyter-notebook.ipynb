{
 "cells": [
  {
   "attachments": {},
   "cell_type": "markdown",
   "metadata": {},
   "source": [
    "#### Companion reading if you want to understand how it works:  \n",
    "\n",
    "[Creating a (mostly) Autonomous HR Assistant with ChatGPT and LangChain’s Agents and Tools](https://medium.com/@stephen.bonifacio/creating-a-mostly-autonomous-hr-assistant-with-chatgpt-and-langchains-agents-and-tools-1cdda0aa70ef)\n",
    "\n"
   ]
  },
  {
   "cell_type": "code",
   "execution_count": 1,
   "metadata": {},
   "outputs": [],
   "source": [
    "# load core modules\n",
    "from langchain.chains import RetrievalQA\n",
    "# load agents and tools modules\n",
    "import pandas as pd\n",
    "from io import StringIO\n",
    "#from langchain_experimental.tools.python.tool import PythonREPLTool\n",
    "from langchain.agents import initialize_agent, Tool\n",
    "from langchain.agents import AgentType\n",
    "from langchain import LLMMathChain\n",
    "from langchain_chroma import Chroma\n",
    "from langchain_groq import ChatGroq\n",
    "\n"
   ]
  },
  {
   "cell_type": "code",
   "execution_count": 2,
   "metadata": {},
   "outputs": [
    {
     "name": "stderr",
     "output_type": "stream",
     "text": [
      "c:\\Users\\SivaSaiNS\\Proj\\HR - Chatbot\\venv\\Lib\\site-packages\\sentence_transformers\\cross_encoder\\CrossEncoder.py:13: TqdmExperimentalWarning: Using `tqdm.autonotebook.tqdm` in notebook mode. Use `tqdm.tqdm` instead to force console mode (e.g. in jupyter console)\n",
      "  from tqdm.autonotebook import tqdm, trange\n",
      "c:\\Users\\SivaSaiNS\\Proj\\HR - Chatbot\\venv\\Lib\\site-packages\\transformers\\tokenization_utils_base.py:1617: FutureWarning: `clean_up_tokenization_spaces` was not set. It will be set to `True` by default. This behavior will be deprecated in transformers v4.45, and will be then set to `False` by default. For more details check this issue: https://github.com/huggingface/transformers/issues/31884\n",
      "  warnings.warn(\n"
     ]
    }
   ],
   "source": [
    "from sentence_transformers import SentenceTransformer\n",
    "\n",
    "# Load the sentence-transformers model\n",
    "model = SentenceTransformer('all-MiniLM-L6-v2')\n",
    "\n",
    "# Define the custom embed_query method with conversion to list\n",
    "def embed_query(self, texts):\n",
    "    \"\"\"\n",
    "    Custom embedding function to handle query embedding.\n",
    "    Ensures that embeddings are returned as a list of lists.\n",
    "    \"\"\"\n",
    "    embeddings = self.encode(texts)  # Get embeddings as ndarray\n",
    "    return embeddings.tolist()  # Convert ndarray to list of lists\n",
    "\n",
    "# Add the embed_query method to the SentenceTransformer object\n",
    "import types\n",
    "model.embed_query = types.MethodType(embed_query, model)\n",
    "\n",
    "vector_store = Chroma(\n",
    "    collection_name=\"policies\",\n",
    "    persist_directory=\"./vectorstore\",\n",
    "    embedding_function=model,\n",
    ")"
   ]
  },
  {
   "cell_type": "code",
   "execution_count": 10,
   "metadata": {},
   "outputs": [],
   "source": [
    "\n",
    "\n",
    "# initialize LLM object\n",
    "llm = ChatGroq(\n",
    "    temperature=0, \n",
    "    groq_api_key='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', \n",
    "    model_name=\"mixtral-8x7b-32768\",\n",
    "    max_retries=2,\n",
    ")\n",
    "\n",
    "# initialize vectorstore retriever object\n",
    "timekeeping_policy = RetrievalQA.from_chain_type(\n",
    "    llm=llm,\n",
    "    chain_type=\"stuff\",\n",
    "    retriever=vector_store.as_retriever(),\n",
    ")\n",
    "\n",
    "df = pd.read_csv(\"employee_data.csv\") # load employee_data.csv as dataframe\n",
    "class CustomPythonTool:\n",
    "    def __init__(self, df):\n",
    "        self.df = df\n",
    "\n",
    "    def run(self, query):\n",
    "        try:\n",
    "            # Execute query using the df\n",
    "            result = eval(query, {\"df\": self.df})\n",
    "            return str(result)\n",
    "        except Exception as e:\n",
    "            return f\"Error: {str(e)}\"\n",
    "\n",
    "# Initialize your custom tool\n",
    "python_tool = CustomPythonTool(df)\n",
    "#python = PythonAstREPLTool(locals={\"df\": df}) # set access of python_repl tool to the dataframe\n",
    "\n",
    "# create calculator tool\n",
    "calculator = LLMMathChain.from_llm(llm=llm, verbose=True)\n",
    "\n",
    "# create variables for f strings embedded in the prompts\n",
    "user = 'Siva Sai' # set user\n",
    "df_columns = df.columns.to_list() # print column names of df\n",
    "\n",
    "# prep the (tk policy) vectordb retriever, the python_repl(with df access) and langchain calculator as tools for the agent\n",
    "tools = [\n",
    "    Tool(\n",
    "        name = \"Timekeeping Policies\",\n",
    "        func=timekeeping_policy.run,\n",
    "        description=\"\"\"\n",
    "        Useful for when you need to answer questions about employee timekeeping policies.\n",
    "\n",
    "        <user>: What is the policy on unused vacation leave?\n",
    "        <assistant>: I need to check the timekeeping policies to answer this question.\n",
    "        <assistant>: Action: Timekeeping Policies\n",
    "        <assistant>: Action Input: Vacation Leave Policy - Unused Leave\n",
    "        ...\n",
    "        \"\"\"\n",
    "    ),\n",
    "    Tool(\n",
    "        name = \"Employee Data\",\n",
    "        func=python_tool.run,\n",
    "        description = f\"\"\"\n",
    "        Useful for when you need to answer questions about employee data stored in pandas dataframe 'df'. \n",
    "        Run python pandas operations on 'df' to help you get the right answer.\n",
    "        'df' has the following columns: {df_columns}\n",
    "        \n",
    "        Question: How many Sick Leave do I have left?\n",
    "        Thought: I need to check the employee data to get this information.\n",
    "        Action: Employee Data\n",
    "        Action Input: df[df['name'] == 'Siva Sai']['sick_leave']\n",
    "        Observation: 45\n",
    "        Thought: I now know the final answer.\n",
    "        Final Answer: You have 45 sick leaves left.\n",
    "        \"\"\"\n",
    "    ),\n",
    "    Tool(\n",
    "        name = \"Calculator\",\n",
    "        func=calculator.run,\n",
    "        description = f\"\"\"\n",
    "        Useful when you need to do complex math operations or arithmetic.\n",
    "        Question: Calculate 30 times my basic pay divided by 30.\n",
    "        Thought: I need to first fetch the basic pay and then use the calculator to perform the math operation.\n",
    "        Action: Employee Data\n",
    "        Action Input: df[df['name'] == 'Siva Sai']['basic_pay_in_rs'].iloc[0]\n",
    "        Observation: 50000  # Assuming the basic pay is Rs. 50,000\n",
    "        Thought: I now have the basic pay and can proceed with the calculation.\n",
    "        Action: Calculator\n",
    "        Action Input: (30 * 50000 / 30)\n",
    "        Observation: 50000\n",
    "        Thought: I now know the final answer.\n",
    "        Final Answer: The result of the calculation is 50,000.\n",
    "        \"\"\"\n",
    "    )\n",
    "]\n",
    "\n",
    "# change the value of the prefix argument in the initialize_agent function. This will overwrite the default prompt template of the zero shot agent type\n",
    "agent_kwargs = {'prefix': f'You are friendly HR assistant. You are tasked to assist the current user: {user} on questions related to HR. If you do not find any relavent data using below tools then say i do not know. You have access to the following tools:'}\n",
    "\n",
    "\n",
    "# initialize the LLM agent\n",
    "agent = initialize_agent(tools, \n",
    "                         llm, \n",
    "                         agent=AgentType.ZERO_SHOT_REACT_DESCRIPTION, \n",
    "                         verbose=True, \n",
    "                         agent_kwargs=agent_kwargs\n",
    "                         )\n",
    "# define q and a function for frontend\n",
    "def get_response(user_input):\n",
    "    response = agent.invoke(user_input)\n",
    "    return response"
   ]
  },
  {
   "cell_type": "code",
   "execution_count": 4,
   "metadata": {},
   "outputs": [
    {
     "name": "stdout",
     "output_type": "stream",
     "text": [
      "You are friendly HR assistant. You are tasked to assist the current user: Siva Sai on questions related to HR. If you do not find any relavent data using below tools then say i do not know. For general questions no need to use tools. You have access to the following tools:\n",
      "\n",
      "Timekeeping Policies(*args: Any, callbacks: Union[List[langchain_core.callbacks.base.BaseCallbackHandler], langchain_core.callbacks.base.BaseCallbackManager, NoneType] = None, tags: Optional[List[str]] = None, metadata: Optional[Dict[str, Any]] = None, **kwargs: Any) -> Any - \n",
      "        Useful for when you need to answer questions about employee timekeeping policies.\n",
      "\n",
      "        <user>: What is the policy on unused vacation leave?\n",
      "        <assistant>: I need to check the timekeeping policies to answer this question.\n",
      "        <assistant>: Action: Timekeeping Policies\n",
      "        <assistant>: Action Input: Vacation Leave Policy - Unused Leave\n",
      "        ...\n",
      "        \n",
      "Employee Data(query) - \n",
      "        Useful for when you need to answer questions about employee data stored in pandas dataframe 'df'. \n",
      "        Run python pandas operations on 'df' to help you get the right answer.\n",
      "        'df' has the following columns: ['employee_id', 'name', 'position', 'organizational_unit', 'rank', 'hire_date', 'regularization_date', 'vacation_leave', 'sick_leave', 'basic_pay_in_rs', 'employment_status', 'supervisor']\n",
      "        \n",
      "        Question: How many Sick Leave do I have left?\n",
      "        Thought: I need to check the employee data to get this information.\n",
      "        Action: Employee Data\n",
      "        Action Input: df[df['name'] == 'Siva Sai']['sick_leave']\n",
      "        Observation: 45\n",
      "        Thought: I now know the final answer.\n",
      "        Final Answer: You have 45 sick leaves left.\n",
      "        \n",
      "Calculator(*args: Any, callbacks: Union[List[langchain_core.callbacks.base.BaseCallbackHandler], langchain_core.callbacks.base.BaseCallbackManager, NoneType] = None, tags: Optional[List[str]] = None, metadata: Optional[Dict[str, Any]] = None, **kwargs: Any) -> Any - \n",
      "        Useful when you need to do complex math operations or arithmetic.\n",
      "        Question: Calculate 30 times my basic pay divided by 30.\n",
      "        Thought: I need to first fetch the basic pay and then use the calculator to perform the math operation.\n",
      "        Action: Employee Data\n",
      "        Action Input: df[df['name'] == 'Siva Sai']['basic_pay_in_rs'].iloc[0]\n",
      "        Observation: 50000  # Assuming the basic pay is Rs. 50,000\n",
      "        Thought: I now have the basic pay and can proceed with the calculation.\n",
      "        Action: Calculator\n",
      "        Action Input: (30 * 50000 / 30)\n",
      "        Observation: 50000\n",
      "        Thought: I now know the final answer.\n",
      "        Final Answer: The result of the calculation is 50,000.\n",
      "        \n",
      "\n",
      "Use the following format:\n",
      "\n",
      "Question: the input question you must answer\n",
      "Thought: you should always think about what to do\n",
      "Action: the action to take, should be one of [Timekeeping Policies, Employee Data, Calculator]\n",
      "Action Input: the input to the action\n",
      "Observation: the result of the action\n",
      "... (this Thought/Action/Action Input/Observation can repeat N times)\n",
      "Thought: I now know the final answer\n",
      "Final Answer: the final answer to the original input question\n",
      "\n",
      "Begin!\n",
      "\n",
      "Question: {input}\n",
      "Thought:{agent_scratchpad}\n"
     ]
    }
   ],
   "source": [
    "print(agent.agent.llm_chain.prompt.template)"
   ]
  },
  {
   "cell_type": "code",
   "execution_count": 11,
   "metadata": {},
   "outputs": [
    {
     "name": "stdout",
     "output_type": "stream",
     "text": [
      "\n",
      "\n",
      "\u001b[1m> Entering new AgentExecutor chain...\u001b[0m\n",
      "\u001b[32;1m\u001b[1;3mI need to check the employee data to get this information.\n",
      "Action: Employee Data\n",
      "Action Input: df[df['name'] == 'Siva Sai']['employee_id']\u001b[0m\n",
      "Observation: \u001b[33;1m\u001b[1;3m0    1005674\n",
      "Name: employee_id, dtype: int64\u001b[0m\n",
      "Thought:\u001b[32;1m\u001b[1;3mI now know the final answer.\n",
      "Final Answer: Your employee ID is 1005674.\u001b[0m\n",
      "\n",
      "\u001b[1m> Finished chain.\u001b[0m\n"
     ]
    },
    {
     "data": {
      "text/plain": [
       "{'input': 'What is my ID?', 'output': 'Your employee ID is 1005674.'}"
      ]
     },
     "execution_count": 11,
     "metadata": {},
     "output_type": "execute_result"
    }
   ],
   "source": [
    "get_response('What is my ID?')"
   ]
  },
  {
   "cell_type": "code",
   "execution_count": 64,
   "metadata": {},
   "outputs": [
    {
     "name": "stdout",
     "output_type": "stream",
     "text": [
      "\n",
      "\n",
      "\u001b[1m> Entering new AgentExecutor chain...\u001b[0m\n",
      "\u001b[32;1m\u001b[1;3mI need to check the timekeeping policies to answer this question.\n",
      "Action: Timekeeping Policies\n",
      "Action Input: Probationary Period - Vacation Leave Policy\n",
      "\u001b[0m\n",
      "Observation: \u001b[36;1m\u001b[1;3mBased on the provided HR Policy Manual, employees on probation are not eligible for Vacation Leave (A. Vacation Leave, 5. During Probation), but they are eligible for Personal Leave, Sick Leave at a reduced rate, Religious Observance Leave, and Medical Appointment Leave. The eligibility and accrual details for these leaves can be found under sections R, S, and T of the leave policy. The leave application process, including submission, approval, notice period, and documentation requirements, are outlined in section VII of the policy. Violation of this policy may result in disciplinary action, up to and including termination of employment (VIII. Policy Violation). If there are any questions about this policy, the Human Resources Department should be contacted (X. Questions).\u001b[0m\n",
      "Thought:\u001b[32;1m\u001b[1;3mI now know the final answer.\n",
      "Final Answer: Based on the timekeeping policies, employees on probation are not allowed to have vacation leaves. However, they are eligible for Personal Leave, Sick Leave at a reduced rate, Religious Observance Leave, and Medical Appointment Leave.\u001b[0m\n",
      "\n",
      "\u001b[1m> Finished chain.\u001b[0m\n"
     ]
    },
    {
     "data": {
      "text/plain": [
       "{'input': 'Are employees on probation allowed to have vacation leaves?',\n",
       " 'output': 'Based on the timekeeping policies, employees on probation are not allowed to have vacation leaves. However, they are eligible for Personal Leave, Sick Leave at a reduced rate, Religious Observance Leave, and Medical Appointment Leave.'}"
      ]
     },
     "execution_count": 64,
     "metadata": {},
     "output_type": "execute_result"
    }
   ],
   "source": [
    "get_response('Are employees on probation allowed to have vacation leaves?')"
   ]
  },
  {
   "cell_type": "code",
   "execution_count": 65,
   "metadata": {},
   "outputs": [
    {
     "name": "stdout",
     "output_type": "stream",
     "text": [
      "\n",
      "\n",
      "\u001b[1m> Entering new AgentExecutor chain...\u001b[0m\n",
      "\u001b[32;1m\u001b[1;3mI need to check the employee data to get the number of vacation leaves left and the timekeeping policies to understand the policy on unused vacation leaves.\n",
      "\n",
      "Action: Employee Data\n",
      "Action Input: df[df['name'] == 'Siva Sai']['vacation_leave']\n",
      "\u001b[0m\n",
      "Observation: \u001b[33;1m\u001b[1;3m0    30\n",
      "Name: vacation_leave, dtype: int64\u001b[0m\n",
      "Thought:\u001b[32;1m\u001b[1;3mI now know the number of vacation leaves Siva Sai has left. Next, I need to check the timekeeping policies to understand the policy on unused vacation leaves.\n",
      "\n",
      "Action: Timekeeping Policies\n",
      "Action Input: Vacation Leave Policy - Unused Leave\n",
      "\u001b[0m\n",
      "Observation: \u001b[36;1m\u001b[1;3mBased on the provided HR Policy Manual, the Vacation Leave policy states that:\n",
      "\n",
      "- All regular full-time employees are eligible for Vacation Leave and will earn 1.25 days of leave per month of service, accruing to 15 days per year.\n",
      "- Unused Vacation Leave can be carried over to the next year, but the total accumulated leave should not exceed 30 days. Any excess leave will be forfeited.\n",
      "- Unused Vacation Leave can be encashed at the end of the year at the basic salary rate. The encashment rate is basic salary divided by 30 days multiplied by unused leaves to be encashed.\n",
      "- Employees on probation are not eligible for Vacation Leave.\u001b[0m\n",
      "Thought:\u001b[32;1m\u001b[1;3mI now know the final answer.\n",
      "Final Answer: You have 30 vacation leaves left. According to the timekeeping policies, unused vacation leaves can be carried over to the next year, but the total accumulated leave should not exceed 30 days. Any excess leave will be forfeited. You can also encash your unused leaves at the end of the year.\u001b[0m\n",
      "\n",
      "\u001b[1m> Finished chain.\u001b[0m\n"
     ]
    },
    {
     "data": {
      "text/plain": [
       "{'input': 'How many vacation leaves do I have left and what is the policy on unused VLs?',\n",
       " 'output': 'You have 30 vacation leaves left. According to the timekeeping policies, unused vacation leaves can be carried over to the next year, but the total accumulated leave should not exceed 30 days. Any excess leave will be forfeited. You can also encash your unused leaves at the end of the year.'}"
      ]
     },
     "execution_count": 65,
     "metadata": {},
     "output_type": "execute_result"
    }
   ],
   "source": [
    "get_response(\"How many vacation leaves do I have left and what is the policy on unused VLs?\")"
   ]
  },
  {
   "cell_type": "code",
   "execution_count": 139,
   "metadata": {},
   "outputs": [
    {
     "name": "stdout",
     "output_type": "stream",
     "text": [
      "\n",
      "\n",
      "\u001b[1m> Entering new AgentExecutor chain...\u001b[0m\n",
      "\u001b[32;1m\u001b[1;3mTo answer this question, I need to know Diwakar's basic pay and the number of unused vacation leaves (VLs) he has. I can use the 'Employee Data' tool to get this information.\n",
      "\n",
      "Action: Employee Data\n",
      "Action Input: df[df['name'] == 'Diwakar']['basic_pay_in_rs'], df[df['name'] == 'Diwakar']['vacation_leave']\n",
      "\u001b[0m\n",
      "Observation: \u001b[33;1m\u001b[1;3m(1    90000\n",
      "Name: basic_pay_in_rs, dtype: int64, 1    20\n",
      "Name: vacation_leave, dtype: int64)\u001b[0m\n",
      "Thought:\u001b[32;1m\u001b[1;3mI now have Diwakar's basic pay (Rs. 90,000) and the number of unused vacation leaves (20). To calculate Diwakar's pay for encashing unused VLs, I need to know the rate at which VLs are encashed. I don't have this information yet, so I will assume it is a fixed rate for the sake of this example. I can use the 'Calculator' tool to perform the calculation.\n",
      "\n",
      "Action: Calculator\n",
      "Action Input: (20 * 90000 / 30)\n",
      "\u001b[0m\n",
      "\n",
      "\u001b[1m> Entering new LLMMathChain chain...\u001b[0m\n",
      "(20 * 90000 / 30)\n",
      "\u001b[32;1m\u001b[1;3m```text\n",
      "20 * 90000 / 30\n",
      "```\n",
      "...numexpr.evaluate(\"20 * 90000 / 30\")...\n",
      "\u001b[0m\n",
      "Answer: \u001b[33;1m\u001b[1;3m60000.0\u001b[0m\n",
      "\u001b[1m> Finished chain.\u001b[0m\n",
      "\n",
      "Observation: \u001b[38;5;200m\u001b[1;3mAnswer: 60000.0\u001b[0m\n",
      "Thought:\u001b[32;1m\u001b[1;3mI now know the final answer.\n",
      "Final Answer: If Diwakar wants to encash his unused vacation leaves for the month, he will be paid approximately Rs. 60,000, assuming a fixed rate for encashing vacation leaves.\u001b[0m\n",
      "\n",
      "\u001b[1m> Finished chain.\u001b[0m\n"
     ]
    },
    {
     "data": {
      "text/plain": [
       "{'input': 'How much will Diwakar be paid if he want to encash unused VLs for the month?',\n",
       " 'output': 'If Diwakar wants to encash his unused vacation leaves for the month, he will be paid approximately Rs. 60,000, assuming a fixed rate for encashing vacation leaves.'}"
      ]
     },
     "execution_count": 139,
     "metadata": {},
     "output_type": "execute_result"
    }
   ],
   "source": [
    "get_response(\"How much will Diwakar be paid if he want to encash unused VLs for the month?\")"
   ]
  },
  {
   "cell_type": "code",
   "execution_count": 62,
   "metadata": {},
   "outputs": [
    {
     "name": "stdout",
     "output_type": "stream",
     "text": [
      "\n",
      "\n",
      "\u001b[1m> Entering new AgentExecutor chain...\u001b[0m\n",
      "\u001b[32;1m\u001b[1;3mI need to check the employee data to find out who has the highest pay.\n",
      "Action: Employee Data\n",
      "Action Input: df[['name', 'basic_pay_in_rs']].sort_values(by='basic_pay_in_rs', ascending=False)\u001b[0m\n",
      "Observation: \u001b[33;1m\u001b[1;3m       name  basic_pay_in_rs\n",
      "3    Thyagu           150000\n",
      "1   Diwakar            90000\n",
      "0  Siva Sai            57000\n",
      "2     Veera            30000\u001b[0m\n",
      "Thought:\u001b[32;1m\u001b[1;3mI now know the final answer.\n",
      "Final Answer: Thyagu is the employee with the highest pay at Rs. 150,000.\u001b[0m\n",
      "\n",
      "\u001b[1m> Finished chain.\u001b[0m\n"
     ]
    },
    {
     "data": {
      "text/plain": [
       "{'input': 'Which employee has highest pay?',\n",
       " 'output': 'Thyagu is the employee with the highest pay at Rs. 150,000.'}"
      ]
     },
     "execution_count": 62,
     "metadata": {},
     "output_type": "execute_result"
    }
   ],
   "source": [
    "get_response('Which employee has highest pay?')"
   ]
  },
  {
   "cell_type": "code",
   "execution_count": 12,
   "metadata": {},
   "outputs": [
    {
     "name": "stdout",
     "output_type": "stream",
     "text": [
      "\n",
      "\n",
      "\u001b[1m> Entering new AgentExecutor chain...\u001b[0m\n",
      "\u001b[32;1m\u001b[1;3mI need to check the employee data to get this information.\n",
      "Action: Employee Data\n",
      "Action Input: df[df['name'] == 'Thyagu']['basic_pay_in_rs']\u001b[0m\n",
      "Observation: \u001b[33;1m\u001b[1;3m3    150000\n",
      "Name: basic_pay_in_rs, dtype: int64\u001b[0m\n",
      "Thought:\u001b[32;1m\u001b[1;3mI now know the final answer.\n",
      "Final Answer: Thyagu's basic pay is 150,000.\u001b[0m\n",
      "\n",
      "\u001b[1m> Finished chain.\u001b[0m\n"
     ]
    },
    {
     "data": {
      "text/plain": [
       "{'input': 'What is Thyagu basci pay?',\n",
       " 'output': \"Thyagu's basic pay is 150,000.\"}"
      ]
     },
     "execution_count": 12,
     "metadata": {},
     "output_type": "execute_result"
    }
   ],
   "source": [
    "get_response('What is Thyagu basci pay?')"
   ]
  }
 ],
 "metadata": {
  "kernelspec": {
   "display_name": ".venv",
   "language": "python",
   "name": "python3"
  },
  "language_info": {
   "codemirror_mode": {
    "name": "ipython",
    "version": 3
   },
   "file_extension": ".py",
   "mimetype": "text/x-python",
   "name": "python",
   "nbconvert_exporter": "python",
   "pygments_lexer": "ipython3",
   "version": "3.12.7"
  },
  "orig_nbformat": 4
 },
 "nbformat": 4,
 "nbformat_minor": 2
}
